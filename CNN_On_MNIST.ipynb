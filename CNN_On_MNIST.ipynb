{
 "cells": [
  {
   "cell_type": "markdown",
   "metadata": {
    "id": "AZUA_GDKsOHF"
   },
   "source": [
    "\n",
    "# Convolutional Neural Network on the MNIST Dataset\n",
    "This is a notebook that builds and trains a simple CNN on the ever so popular [MNIST dataset](https://en.wikipedia.org/wiki/MNIST_database). The MNIST dataset is a large collection of handwritten digits like this sample of the number 8. \n",
    "\n",
    "![image.png](data:image/png;base64,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)\n",
    "\n",
    "Our mission - we have no choice but to accept it - is to fit a basic CNN on the data and get a good testing accuracy."
   ]
  },
  {
   "cell_type": "markdown",
   "metadata": {
    "id": "ZeGHnwqAzlY1"
   },
   "source": [
    "We start off by **importing the necessary libraries**"
   ]
  },
  {
   "cell_type": "markdown",
   "metadata": {
    "id": "kplhYwCa0zIc"
   },
   "source": [
    "**Formatting Data**\n",
    "\n",
    "Next, we're going to format our data. Data formatting is a tedious but crucial part of deep learning. It is necessary to format your inputs in a way that will be easy to understand for the model you are trying to train. We have formatted the data for you but in the future, you will have to pay close attention to what the dataset contains and what your model actually needs."
   ]
  },
  {
   "cell_type": "code",
   "execution_count": 3,
   "metadata": {},
   "outputs": [],
   "source": [
    "import torch\n",
    "import torchvision\n",
    "import torchvision.transforms as transforms\n",
    "from copy import deepcopy\n",
    "from EntropySGD import EntropySGD\n",
    "import matplotlib.pyplot as plt"
   ]
  },
  {
   "cell_type": "code",
   "execution_count": 4,
   "metadata": {},
   "outputs": [
    {
     "name": "stdout",
     "output_type": "stream",
     "text": [
      "cuda:0\n"
     ]
    }
   ],
   "source": [
    "\n",
    "device = torch.device(\"cuda:0\" if torch.cuda.is_available() else \"cpu\")\n",
    "print(device)\n",
    "\n",
    "transform = transforms.Compose(\n",
    "    [transforms.ToTensor(),\n",
    "     transforms.Normalize((0.1307,), (0.3081,))])"
   ]
  },
  {
   "cell_type": "code",
   "execution_count": 5,
   "metadata": {
    "id": "4Odb05-s1Qz2"
   },
   "outputs": [
    {
     "name": "stdout",
     "output_type": "stream",
     "text": [
      "Downloading http://yann.lecun.com/exdb/mnist/train-images-idx3-ubyte.gz\n",
      "Downloading http://yann.lecun.com/exdb/mnist/train-images-idx3-ubyte.gz to ./data/MNIST/raw/train-images-idx3-ubyte.gz\n"
     ]
    },
    {
     "data": {
      "application/vnd.jupyter.widget-view+json": {
       "model_id": "d3e43c6e74ad4fce954c16e34ecc273f",
       "version_major": 2,
       "version_minor": 0
      },
      "text/plain": [
       "  0%|          | 0/9912422 [00:00<?, ?it/s]"
      ]
     },
     "metadata": {},
     "output_type": "display_data"
    },
    {
     "name": "stdout",
     "output_type": "stream",
     "text": [
      "Extracting ./data/MNIST/raw/train-images-idx3-ubyte.gz to ./data/MNIST/raw\n",
      "\n",
      "Downloading http://yann.lecun.com/exdb/mnist/train-labels-idx1-ubyte.gz\n",
      "Downloading http://yann.lecun.com/exdb/mnist/train-labels-idx1-ubyte.gz to ./data/MNIST/raw/train-labels-idx1-ubyte.gz\n"
     ]
    },
    {
     "data": {
      "application/vnd.jupyter.widget-view+json": {
       "model_id": "b0d525f4bda449678ea20c5b16dd3b98",
       "version_major": 2,
       "version_minor": 0
      },
      "text/plain": [
       "  0%|          | 0/28881 [00:00<?, ?it/s]"
      ]
     },
     "metadata": {},
     "output_type": "display_data"
    },
    {
     "name": "stdout",
     "output_type": "stream",
     "text": [
      "Extracting ./data/MNIST/raw/train-labels-idx1-ubyte.gz to ./data/MNIST/raw\n",
      "\n",
      "Downloading http://yann.lecun.com/exdb/mnist/t10k-images-idx3-ubyte.gz\n",
      "Downloading http://yann.lecun.com/exdb/mnist/t10k-images-idx3-ubyte.gz to ./data/MNIST/raw/t10k-images-idx3-ubyte.gz\n"
     ]
    },
    {
     "data": {
      "application/vnd.jupyter.widget-view+json": {
       "model_id": "23b00df4145c4b6b805127ab3085d144",
       "version_major": 2,
       "version_minor": 0
      },
      "text/plain": [
       "  0%|          | 0/1648877 [00:00<?, ?it/s]"
      ]
     },
     "metadata": {},
     "output_type": "display_data"
    },
    {
     "name": "stdout",
     "output_type": "stream",
     "text": [
      "Extracting ./data/MNIST/raw/t10k-images-idx3-ubyte.gz to ./data/MNIST/raw\n",
      "\n",
      "Downloading http://yann.lecun.com/exdb/mnist/t10k-labels-idx1-ubyte.gz\n",
      "Downloading http://yann.lecun.com/exdb/mnist/t10k-labels-idx1-ubyte.gz to ./data/MNIST/raw/t10k-labels-idx1-ubyte.gz\n"
     ]
    },
    {
     "data": {
      "application/vnd.jupyter.widget-view+json": {
       "model_id": "87f868f4d5574cb9a423222cca17a5ae",
       "version_major": 2,
       "version_minor": 0
      },
      "text/plain": [
       "  0%|          | 0/4542 [00:00<?, ?it/s]"
      ]
     },
     "metadata": {},
     "output_type": "display_data"
    },
    {
     "name": "stdout",
     "output_type": "stream",
     "text": [
      "Extracting ./data/MNIST/raw/t10k-labels-idx1-ubyte.gz to ./data/MNIST/raw\n",
      "\n"
     ]
    }
   ],
   "source": [
    "\n",
    "\n",
    "batch_size = 128\n",
    "\n",
    "trainset = torchvision.datasets.MNIST(root='./data', train=True,\n",
    "                                        download=True, transform=transform)\n",
    "trainloader = torch.utils.data.DataLoader(trainset, batch_size=batch_size,\n",
    "                                          shuffle=True, num_workers=0)\n",
    "\n",
    "testset = torchvision.datasets.MNIST(root='./data', train=False,\n",
    "                                       download=True, transform=transform)\n",
    "testloader = torch.utils.data.DataLoader(testset, batch_size=batch_size,\n",
    "                                         shuffle=False, num_workers=0)\n",
    "\n",
    "classes = ('0', '1', '2', '3', '4', '5', '6', '7', '8', '9')"
   ]
  },
  {
   "cell_type": "markdown",
   "metadata": {
    "id": "113h657a7DL6"
   },
   "source": [
    "**Designing Our Model**\n",
    "\n",
    "Next, lets design our CNN. We use Sequential from Keras to help design our model. The Sequential type of a model lets us add layers one by one in a linear fashion. Our first layer has to be our input layer."
   ]
  },
  {
   "cell_type": "code",
   "execution_count": 124,
   "metadata": {},
   "outputs": [],
   "source": [
    "\n",
    "# 2. Define a Neural Network\n",
    "# ^^^^^^^^^^^^^^^^^^^^^^^^^^^^^^^^^^^^^^\n",
    "\n",
    "import torch as T\n",
    "import torch.nn as nn\n",
    "import torch.nn.functional as F\n",
    "class Net(nn.Module):\n",
    "    def __init__(self):\n",
    "        super(Net, self).__init__()  # pre Python 3.3 syntax\n",
    "\n",
    "        self.conv1 = T.nn.Conv2d(1, 32, 5)  # chnl-in, out, krnl\n",
    "        self.conv2 = T.nn.Conv2d(32, 64, 5)\n",
    "        self.fc1 = T.nn.Linear(1024, 512)   # [64*4*4, x]\n",
    "        self.fc2 = T.nn.Linear(512, 256)\n",
    "        self.fc3 = T.nn.Linear(256, 10)     # 10 classes\n",
    "        self.pool1 = T.nn.MaxPool2d(2, stride=2)\n",
    "        self.pool2 = T.nn.MaxPool2d(2, stride=2)\n",
    "        self.drop1 = T.nn.Dropout(0.25)\n",
    "        self.drop2 = T.nn.Dropout(0.50)\n",
    "\n",
    "    def forward(self, x):\n",
    "        # convolution phase         # x is [bs, 1, 28, 28]\n",
    "        z = T.relu(self.conv1(x))   # Size([bs, 32, 24, 24])\n",
    "        z = self.pool1(z)           # Size([bs, 32, 12, 12])\n",
    "        z = self.drop1(z)\n",
    "        z = T.relu(self.conv2(z))   # Size([bs, 64, 8, 8])\n",
    "        z = self.pool2(z)           # Size([bs, 64, 4, 4])\n",
    "\n",
    "        # neural network phase\n",
    "        z = z.reshape(-1, 1024)     # Size([bs, 1024])\n",
    "        z = T.relu(self.fc1(z))     # Size([bs, 512])\n",
    "        z = self.drop2(z)\n",
    "        z = T.relu(self.fc2(z))     # Size([bs, 256])\n",
    "        z = self.fc3(z)             # Size([bs, 10])\n",
    "        return z\n"
   ]
  },
  {
   "cell_type": "code",
   "execution_count": 125,
   "metadata": {},
   "outputs": [],
   "source": [
    "# 3. Define a Loss function and optimizer\n",
    "# ^^^^^^^^^^^^^^^^^^^^^^^^^^^^^^^^^^^^^^^\n",
    "# Let's use a Classification Cross-Entropy loss\n",
    "\n",
    "\n",
    "criterion = nn.CrossEntropyLoss()"
   ]
  },
  {
   "cell_type": "markdown",
   "metadata": {
    "id": "eGlqEDWe78O0"
   },
   "source": [
    "We have now designed our model by putting in all the layers. We haven't yet compiled our model with an optimizer or a loss function."
   ]
  },
  {
   "cell_type": "code",
   "execution_count": 126,
   "metadata": {
    "id": "-7-Mnxsop5OY"
   },
   "outputs": [],
   "source": [
    "# 4. Train the network\n",
    "# ^^^^^^^^^^^^^^^^^^^^\n",
    "#\n",
    "# This is when things start to get interesting.\n",
    "# We simply have to loop over our data iterator, and feed the inputs to the\n",
    "# network and optimize.\n",
    "\n",
    "\n",
    "def eval():\n",
    "    correct = 0\n",
    "    total = 0\n",
    "    with torch.no_grad():\n",
    "        for data in testloader:\n",
    "            inputs, labels = data[0].to(device), data[1].to(device)\n",
    "            outputs = net(inputs)\n",
    "            _, predicted = torch.max(outputs.data, 1)\n",
    "            total += labels.size(0)\n",
    "            correct += (predicted == labels).sum().item()\n",
    "    return correct/total\n",
    "\n",
    "L=20\n"
   ]
  },
  {
   "cell_type": "code",
   "execution_count": 127,
   "metadata": {},
   "outputs": [],
   "source": [
    "epochs=10\n",
    "loss_sgd=[]\n",
    "loss_entropy_sgd=[]\n",
    "\n",
    "errors_sgd=[]\n",
    "errors_entropy_sgd=[]\n",
    "\n",
    "accuracy_sgd=[]\n",
    "accuracy_entropy_sgd=[]\n",
    "\n",
    "\n"
   ]
  },
  {
   "cell_type": "code",
   "execution_count": 128,
   "metadata": {},
   "outputs": [
    {
     "name": "stdout",
     "output_type": "stream",
     "text": [
      "Running Entropy-SGD optimizer\n",
      "[1, 0.858] loss: 1.715\n",
      "epoch done 1\n",
      "[2, 0.975] loss: 0.315\n",
      "epoch done 2\n",
      "[3, 0.982] loss: 0.223\n",
      "epoch done 3\n",
      "[4, 0.985] loss: 0.179\n",
      "epoch done 4\n",
      "[5, 0.987] loss: 0.150\n",
      "epoch done 5\n",
      "[6, 0.988] loss: 0.145\n",
      "epoch done 6\n",
      "[7, 0.989] loss: 0.129\n",
      "epoch done 7\n",
      "[8, 0.990] loss: 0.115\n",
      "epoch done 8\n",
      "[9, 0.991] loss: 0.108\n",
      "epoch done 9\n",
      "[10, 0.992] loss: 0.096\n",
      "epoch done 10\n",
      "Finished Training\n"
     ]
    }
   ],
   "source": [
    "print(\"Running Entropy-SGD optimizer\")\n",
    "net_entropy = Net()\n",
    "net_entropy.to(device)\n",
    "\n",
    "optimizer = EntropySGD(net_entropy.parameters(), momentum=0.9, nesterov=True)\n",
    "\n",
    "for epoch in range(epochs):  # loop over the dataset multiple times\n",
    "    dataiter = iter(trainloader)\n",
    "    accuracy=0\n",
    "    total=0\n",
    "    running_loss=0\n",
    "    def closure():\n",
    "        data = dataiter.next()\n",
    "        inputs, labels = data[0].to(device), data[1].to(device)\n",
    "\n",
    "        optimizer.zero_grad()\n",
    "        outputs = net_entropy(inputs)\n",
    "        loss = criterion(outputs, labels)\n",
    "        loss.backward()\n",
    "        global accuracy, total, running_loss\n",
    "        accuracy+=(torch.argmax(outputs, dim=1)==labels).cpu().detach().numpy().sum()\n",
    "        total+=labels.size()[0]\n",
    "        running_loss += loss.item()/labels.size()[0]\n",
    "        return loss\n",
    "\n",
    "\n",
    "    for step in range(len(dataiter)//L):\n",
    "        optimizer.step(closure)\n",
    "    print('[%d, %.3f] loss: %.3f' %\n",
    "          (epoch + 1, accuracy/total , running_loss ))\n",
    "    loss_entropy_sgd.append(running_loss)\n",
    "    accuracy_entropy_sgd.append(accuracy/total)\n",
    "    err = 1-eval()\n",
    "    errors_entropy_sgd.append(err)\n",
    "\n",
    "    print(\"epoch done\", epoch+1)\n",
    "print('Finished Training')"
   ]
  },
  {
   "cell_type": "code",
   "execution_count": 114,
   "metadata": {},
   "outputs": [
    {
     "name": "stdout",
     "output_type": "stream",
     "text": [
      "Running SGD optimizer\n",
      "[1, 0.536] loss: 1.533\n",
      "epoch done 1\n",
      "[2, 0.889] loss: 0.371\n",
      "epoch done 2\n",
      "[3, 0.929] loss: 0.235\n",
      "epoch done 3\n",
      "[4, 0.946] loss: 0.177\n",
      "epoch done 4\n",
      "[5, 0.955] loss: 0.147\n",
      "epoch done 5\n",
      "[6, 0.962] loss: 0.125\n",
      "epoch done 6\n",
      "[7, 0.965] loss: 0.113\n",
      "epoch done 7\n",
      "[8, 0.969] loss: 0.103\n",
      "epoch done 8\n",
      "[9, 0.971] loss: 0.095\n",
      "epoch done 9\n",
      "[10, 0.973] loss: 0.088\n",
      "epoch done 10\n",
      "Finished Training\n"
     ]
    }
   ],
   "source": [
    "print(\"Running SGD optimizer\")\n",
    "net_sgd = Net()\n",
    "net_sgd.to(device)\n",
    "\n",
    "optimizer = torch.optim.SGD(net_sgd.parameters(), lr=0.001, momentum=0.9, nesterov=True)\n",
    "\n",
    "for epoch in range(epochs):  # loop over the dataset multiple times\n",
    "\n",
    "    running_loss = 0.0\n",
    "    accuracy=0\n",
    "    total=0\n",
    "    for i, data in enumerate(trainloader, 0):\n",
    "        # get the inputs; data is a list of [inputs, labels]\n",
    "        inputs, labels = data[0].to(device), data[1].to(device)\n",
    "\n",
    "        # zero the parameter gradients\n",
    "        optimizer.zero_grad()\n",
    "\n",
    "        # forward + backward + optimize\n",
    "        outputs = net_sgd(inputs)\n",
    "        loss = criterion(outputs, labels)\n",
    "        accuracy+=(torch.argmax(outputs, dim=1)==labels).cpu().detach().numpy().sum()\n",
    "        total+=labels.size()[0]\n",
    "        loss.backward()\n",
    "        optimizer.step()\n",
    "        # print statistics\n",
    "        running_loss += loss.item()\n",
    "    print('[%d, %.3f] loss: %.3f' %\n",
    "          (epoch + 1, accuracy/total , running_loss / i))\n",
    "\n",
    "    err = 1 - eval()\n",
    "    errors_sgd.append(err)\n",
    "    loss_sgd.append(running_loss)\n",
    "    accuracy_sgd.append(accuracy/total)\n",
    "\n",
    "    print(\"epoch done\", epoch+1)\n",
    "print('Finished Training')"
   ]
  },
  {
   "cell_type": "code",
   "execution_count": 115,
   "metadata": {
    "tags": []
   },
   "outputs": [
    {
     "name": "stdout",
     "output_type": "stream",
     "text": [
      "errors: [0.14280000000000004, 0.07909999999999995, 0.05720000000000003, 0.04279999999999995, 0.0383, 0.034399999999999986, 0.03290000000000004, 0.02969999999999995, 0.026100000000000012, 0.024599999999999955]\n"
     ]
    },
    {
     "data": {
      "image/png": "[encoded data removed]",
      "text/plain": [
       "<Figure size 1440x720 with 2 Axes>"
      ]
     },
     "metadata": {
      "needs_background": "light"
     },
     "output_type": "display_data"
    }
   ],
   "source": [
    "\n",
    "print(\"errors:\", errors_sgd)\n",
    "fig,axs=plt.subplots(2,figsize=(20,10))\n",
    "\n",
    "axs[0].plot([err*100 for err in errors_sgd])\n",
    "axs[0].set_xlabel('epoch')\n",
    "axs[0].set_ylabel('error sgd')\n",
    "\n",
    "axs[1].plot([err*100 for err in errors_entropy_sgd])\n",
    "axs[1].set_xlabel('epoch')\n",
    "axs[1].set_ylabel('error entropy')\n",
    "\n",
    "fig.tight_layout()\n",
    "fig.show()\n",
    "\n"
   ]
  },
  {
   "cell_type": "code",
   "execution_count": 118,
   "metadata": {},
   "outputs": [
    {
     "name": "stdout",
     "output_type": "stream",
     "text": [
      "Accuracy of     0 : 100 %\n",
      "Accuracy of     1 : 96 %\n",
      "Accuracy of     2 : 97 %\n",
      "Accuracy of     3 : 100 %\n",
      "Accuracy of     4 : 97 %\n",
      "Accuracy of     5 : 95 %\n",
      "Accuracy of     6 : 96 %\n",
      "Accuracy of     7 : 100 %\n",
      "Accuracy of     8 : 100 %\n",
      "Accuracy of     9 : 97 %\n"
     ]
    }
   ],
   "source": [
    "\n",
    "# what are the classes that performed well, and the classes that did\n",
    "# not perform well:\n",
    "# with torch.no_grad():\n",
    "#         for data in testloader:\n",
    "#             inputs, labels = data[0].to(device), data[1].to(device)\n",
    "#             outputs = net(inputs)\n",
    "#             _, predicted = torch.max(outputs.data, 1)\n",
    "#             total += labels.size(0)\n",
    "#             correct += (predicted == labels).sum().item()\n",
    "\n",
    "\n",
    "class_correct = list(0. for i in range(10))\n",
    "class_total = list(0. for i in range(10))\n",
    "with torch.no_grad():\n",
    "    for data in testloader:\n",
    "        images, labels = data[0].to(device), data[1].to(device)\n",
    "        outputs = net(images)\n",
    "        _, predicted = torch.max(outputs, 1)\n",
    "        c = (predicted == labels).squeeze()\n",
    "        for i in range(4):\n",
    "            label = labels[i]\n",
    "            class_correct[label] += c[i].item()\n",
    "            class_total[label] += 1\n",
    "\n",
    "\n",
    "for i in range(10):\n",
    "    print('Accuracy of %5s : %2d %%' % (\n",
    "        classes[i], 100 * class_correct[i] / class_total[i]))\n",
    "\n"
   ]
  },
  {
   "cell_type": "code",
   "execution_count": null,
   "metadata": {},
   "outputs": [],
   "source": []
  }
 ],
 "metadata": {
  "colab": {
   "provenance": []
  },
  "kernelspec": {
   "display_name": "Python 3 (ipykernel)",
   "language": "python",
   "name": "python3"
  },
  "language_info": {
   "codemirror_mode": {
    "name": "ipython",
    "version": 3
   },
   "file_extension": ".py",
   "mimetype": "text/x-python",
   "name": "python",
   "nbconvert_exporter": "python",
   "pygments_lexer": "ipython3",
   "version": "3.9.13"
  }
 },
 "nbformat": 4,
 "nbformat_minor": 4
}
